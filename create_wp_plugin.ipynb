{
  "nbformat": 4,
  "nbformat_minor": 0,
  "metadata": {
    "colab": {
      "provenance": [],
      "authorship_tag": "ABX9TyPDICv2aV1LcjyhTY6XGIk0",
      "include_colab_link": true
    },
    "kernelspec": {
      "name": "python3",
      "display_name": "Python 3"
    },
    "language_info": {
      "name": "python"
    }
  },
  "cells": [
    {
      "cell_type": "markdown",
      "metadata": {
        "id": "view-in-github",
        "colab_type": "text"
      },
      "source": [
        "<a href=\"https://colab.research.google.com/github/fwangboulder/wordpress/blob/main/create_wp_plugin.ipynb\" target=\"_parent\"><img src=\"https://colab.research.google.com/assets/colab-badge.svg\" alt=\"Open In Colab\"/></a>"
      ]
    },
    {
      "cell_type": "code",
      "execution_count": null,
      "metadata": {
        "id": "aNGrRtCmKe4_"
      },
      "outputs": [],
      "source": []
    },
    {
      "cell_type": "markdown",
      "source": [
        "[Create a WordPress Plugin](https://www.dreamhost.com/blog/how-to-create-your-first-wordpress-plugin/)\n",
        "\n",
        "**What is WordPress plugin?**\n",
        "\n",
        "package of code that extend the functionality of your site.\n",
        "\n",
        "It could be adding social media share buttons, newsletter signup forms, popups,\n",
        "and so on.\n",
        "\n",
        "##Create a WordPress Plugin in 6 Steps\n",
        "\n",
        "Step1: Do some research and planning\n",
        "\n",
        "check if it exists, improve upon them, updated or not.\n",
        "read [WordPress Coding Standards.](https://codex.wordpress.org/WordPress_Coding_Standards)\n",
        "\n",
        "Step 2: Set Up a Testing Environment\n",
        "\n",
        "Step 3: Create the Plugin File\n",
        " create a folder for it in your site’s directory such as test-plugin\n",
        " (navigate to wp-content/plugins and create a new folder for your plugin)\n",
        "\n",
        " Next, you’ll need to create a PHP file to add to this folder. To do this, open your preferred text editor and enter the following information:\n",
        " ```\n",
        "\n",
        "<?php\n",
        "/**\n",
        "* Plugin Name: test-plugin\n",
        "* Plugin URI: https://www.your-site.com/\n",
        "* Description: Test.\n",
        "* Version: 0.1\n",
        "* Author: your-name\n",
        "* Author URI: https://www.your-site.com/\n",
        "**/\n",
        "```\n",
        "\n",
        "When you’re ready, you can save your file. Remember to use the file extension php (e.g., my-first-plugin.php).\n",
        "\n",
        "\n",
        "Step 4: Add Code to Your Plugin\n",
        "\n",
        "Two types of hooks: Actions, Filters\n",
        "\n",
        "To code your plugin, you’ll need to familiarize yourself with hooks and how they work. Fortunately, the P[lugin Developer Handbook](https://developer.wordpress.org/plugins/) can help you get started.\n",
        "\n",
        "```\n",
        "#For this tutorial, we’ll use the following code as an example.\n",
        "\n",
        "function modify_read_more_link() {\n",
        "    return '<a class=\"more-link\" href=\"' . get_permalink() . '\">Click to Read!</a>';\n",
        "}\n",
        "add_filter( 'the_content_more_link', 'modify_read_more_link' );\n",
        "```\n",
        "\n",
        "Step 5: Test Your Plugin\n",
        "\n",
        "it’s important that you save your work often and test your changes on your staging site.\n",
        "\n",
        "you’ll want to export your plugin to a zip file for easy distribution and installation. Locate your plugin’s folder in the site’s directory, then right-click on it and select Send to > Compressed (zipped) folder:\n",
        "\n",
        "Choose a destination and the files within your folder will be compiled into a zip folder that you can easily share. If you are developing on a live site, you may need to first download the plugin folder from your SFTP client before compressing it.\n",
        "\n",
        "Step 6: Distribute Your Plugin\n",
        "\n",
        "1. Publish Your Work on the WordPress Plugin Directory\n",
        "\n",
        "By submitting your plugin to the WordPress Plugin Directory, you can share your work with the community and gain exposure. You can take advantage of the massive WordPress user base and attract new clients:\n",
        "\n",
        "\n"
      ],
      "metadata": {
        "id": "PPT6TgFfKfzy"
      }
    }
  ]
}