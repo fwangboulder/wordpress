{
  "nbformat": 4,
  "nbformat_minor": 0,
  "metadata": {
    "colab": {
      "provenance": [],
      "authorship_tag": "ABX9TyOk4Rk3PBoamha3e5l+sxG3",
      "include_colab_link": true
    },
    "kernelspec": {
      "name": "python3",
      "display_name": "Python 3"
    },
    "language_info": {
      "name": "python"
    }
  },
  "cells": [
    {
      "cell_type": "markdown",
      "metadata": {
        "id": "view-in-github",
        "colab_type": "text"
      },
      "source": [
        "<a href=\"https://colab.research.google.com/github/fwangboulder/wordpress/blob/main/Install_VScode.ipynb\" target=\"_parent\"><img src=\"https://colab.research.google.com/assets/colab-badge.svg\" alt=\"Open In Colab\"/></a>"
      ]
    },
    {
      "cell_type": "markdown",
      "source": [
        "## How to install Visual Studio Code (VS code)?\n",
        "\n",
        "To install Visual Studio Code (VS Code), follow these steps:\n",
        "\n",
        "Download VS Code:\n",
        "\n",
        "Visit the official Visual Studio Code website at https://code.visualstudio.com/.\n",
        "\n",
        "Select Your OS:\n",
        "\n",
        "Click on the \"Download for [your operating system]\" button. VS Code is available for Windows, macOS, and various Linux distributions.\n",
        "\n",
        "Install VS Code:\n",
        "\n",
        "For Windows:\n",
        "\n",
        "Run the downloaded installer (.exe file).\n",
        "Follow the on-screen instructions.\n",
        "VS Code will be installed with default settings.\n",
        "For macOS:\n",
        "\n",
        "Open the downloaded .dmg file.\n",
        "Drag the \"Visual Studio Code\" icon into the \"Applications\" folder.\n",
        "VS Code will be installed.\n",
        "For Linux (Ubuntu as an example):\n",
        "\n",
        "Download the .deb package for Debian/Ubuntu-based systems.\n",
        "Open a terminal and navigate to the directory containing the downloaded package.\n",
        "Run the following command to install it:\n",
        "\n",
        "```\n",
        "sudo dpkg -i <package-file-name>.deb\n",
        "sudo apt-get install -f\n",
        "\n",
        "```\n",
        "\n",
        "Launch VS Code:\n",
        "\n",
        "For Windows: You can launch VS Code from the Start menu.\n",
        "For macOS: Open it from the Applications folder or use Spotlight (Cmd + Space and start typing \"Visual Studio Code\").\n",
        "For Linux: It should be available in your application launcher or you can run code from the terminal.\n",
        "Initial Configuration:\n",
        "\n",
        "The first time you run VS Code, it will ask if you want to install recommended extensions for common programming languages and tools. You can choose to install these extensions or skip this step and install them later.\n",
        "\n",
        "Updating VS Code:\n",
        "\n",
        "VS Code regularly receives updates. You can check for updates by clicking on the gear icon (settings) in the bottom-left corner of the window and selecting \"Check for Updates.\"\n",
        "\n",
        "\n",
        "For macOS, you can unzip it to a directory where macOS can automatically find it.\n",
        "```\n",
        "cd ~\n",
        "upzip /path/to/VSCode.zip\n",
        "\n",
        "code\n",
        "```\n",
        "if code does not work, try:\n",
        "```\n",
        "cd ~/path/to/Visual\\Studio\\Code.app\n",
        "open \"Visual Studio Code.app\"\n",
        "```\n",
        "\n",
        "or\n",
        "```\n",
        "vim ~/.bashrc\n",
        "#add content to the file: alias code=\"open -a 'Visual Studio Code'\"\n",
        "#save and exit\n",
        "source ~/.bashrc\n",
        "code\n",
        "```"
      ],
      "metadata": {
        "id": "RoyHNsUbpi3C"
      }
    }
  ]
}