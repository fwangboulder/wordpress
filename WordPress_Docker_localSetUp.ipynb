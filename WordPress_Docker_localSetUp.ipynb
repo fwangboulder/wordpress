{
  "nbformat": 4,
  "nbformat_minor": 0,
  "metadata": {
    "colab": {
      "provenance": [],
      "authorship_tag": "ABX9TyOxFAtfBeYjmPkjPGsqUXiY",
      "include_colab_link": true
    },
    "kernelspec": {
      "name": "python3",
      "display_name": "Python 3"
    },
    "language_info": {
      "name": "python"
    }
  },
  "cells": [
    {
      "cell_type": "markdown",
      "metadata": {
        "id": "view-in-github",
        "colab_type": "text"
      },
      "source": [
        "<a href=\"https://colab.research.google.com/github/fwangboulder/wordpress/blob/main/WordPress_Docker_localSetUp.ipynb\" target=\"_parent\"><img src=\"https://colab.research.google.com/assets/colab-badge.svg\" alt=\"Open In Colab\"/></a>"
      ]
    },
    {
      "cell_type": "code",
      "execution_count": null,
      "metadata": {
        "id": "fbRTEs4oqtf-"
      },
      "outputs": [],
      "source": []
    },
    {
      "cell_type": "markdown",
      "source": [
        "[Set up WordPress Container on Docker](https://www.hostinger.com/tutorials/run-docker-wordpress#Step_2_%E2%80%93_Set_Up_WordPress_Container_on_Docker)\n",
        "\n",
        "##**Step 1:**[Install Docer on macOS](https://docs.docker.com/engine/install/)\n",
        "\n",
        "##**Step 2:**\n",
        "\n",
        "#Use Docker compose method to set up wordpress on Docker.\n",
        "#*Required images:*\n",
        "\n",
        "#WordPress:\n",
        "include all WordPress files, Apache server and php\n",
        "\n",
        "#MySQL: database\n",
        "\n",
        "#phpMyAdmin:\n",
        "web application for managing databases\n",
        "\n",
        "1. Check docker compose installation version:\n",
        "docker compose version\n",
        "\n",
        "2. create a new folder named wordpress\n",
        "mkdir wordpress\n",
        "\n",
        "3. Navigate to wordpress:\n",
        "cd wordpress\n",
        "\n",
        "4. create docker-compose.yml file\n",
        "\n",
        "5. create and start the containers:\n",
        "\n",
        "docker compose up -d\n",
        "\n",
        "##**Step 3:**\n",
        "## Complete WordPress Installation on a Web Browser\n",
        "\n",
        "Open your browser and enter http://localhost:8000/. WordPress setup screen will appear. Select the preferred language and continue.\n",
        "\n",
        "fill in the site name, username, password and email.\n",
        "\n",
        "#Setting up phpMyAdmin\n",
        "\n",
        "add phpmyadmin part to docker-compose.yml\n",
        "\n",
        "save and run the docker command:\n",
        "\n",
        "docker compose up -d\n",
        "\n",
        "http://localhost:8080/\n",
        "\n",
        "##Secure WordPress Installation with Docker Secrets\n",
        "\n",
        "\n"
      ],
      "metadata": {
        "id": "5AU2-74jquOv"
      }
    },
    {
      "cell_type": "code",
      "source": [
        "#This is the docker-compose.yml file content\n",
        "version: \"3\"\n",
        "# Defines which compose version to use\n",
        "services:\n",
        "  # Services line define which Docker images to run. In this case, it will be MySQL server and WordPress image.\n",
        "  db:\n",
        "    image: mysql:5.7\n",
        "    # image: mysql:5.7 indicates the MySQL database container image from Docker Hub used in this installation.\n",
        "    restart: always\n",
        "    environment:\n",
        "      MYSQL_ROOT_PASSWORD: MyR00tMySQLPa$$5w0rD\n",
        "      MYSQL_DATABASE: MyWordPressDatabaseName\n",
        "      MYSQL_USER: MyWordPressUser\n",
        "      MYSQL_PASSWORD: Pa$$5w0rD\n",
        "      # Previous four lines define the main variables needed for the MySQL container to work: database, database username, database user password, and the MySQL root password.\n",
        "  # add phpmyadmin part after the wordpress has been set up\n",
        "  phpmyadmin:\n",
        "    image: phpmyadmin/phpmyadmin:latest\n",
        "    restart: always\n",
        "    environment:\n",
        "      PMA_HOST: db\n",
        "      PMA_USER: MyWordPressUser\n",
        "      PMA_PASSWORD: Pa$$5w0rD\n",
        "    ports:\n",
        "      - \"8080:80\"\n",
        "  wordpress:\n",
        "    depends_on:\n",
        "      - db\n",
        "    image: wordpress:latest\n",
        "    restart: always\n",
        "    # Restart line controls the restart mode, meaning if the container stops running for any reason, it will restart the process immediately.\n",
        "    ports:\n",
        "      - \"8000:80\"\n",
        "      # The previous line defines the port that the WordPress container will use. After successful installation, the full path will look like this: http://localhost:8000\n",
        "    environment:\n",
        "      WORDPRESS_DB_HOST: db:3306\n",
        "      WORDPRESS_DB_USER: MyWordPressUser\n",
        "      WORDPRESS_DB_PASSWORD: Pa$$5w0rD\n",
        "      WORDPRESS_DB_NAME: MyWordPressDatabaseName\n",
        "# Similar to MySQL image variables, the last four lines define the main variables needed for the WordPress container to work properly with the MySQL container.\n",
        "    volumes:\n",
        "      [\"./:/var/www/html\"]\n",
        "volumes:\n",
        "  mysql: {}"
      ],
      "metadata": {
        "id": "omDkLhc4sjjj"
      },
      "execution_count": null,
      "outputs": []
    },
    {
      "cell_type": "code",
      "source": [
        "# WordPress Database password is taken from the txt file\n",
        "wordpress:\n",
        "   depends_on:\n",
        "     - db\n",
        "   image: wordpress:latest\n",
        "   restart: always\n",
        "   ports:\n",
        "   - \"8000:80\"\n",
        "   environment:\n",
        "     WORDPRESS_DB_HOST: db:3306\n",
        "     WORDPRESS_DB_USER: MyWordPressUser\n",
        "     WORDPRESS_DB_PASSWORD_FILE: /run/secrets/wordpress_password\n",
        "     WORDPRESS_DB_NAME: MyWordPressDatabaseName\n",
        "   secrets:\n",
        "     - wordpress_password\n",
        "\n",
        "secrets:\n",
        " wordpress_password:\n",
        "   file: ./wordpress_password.txt\n"
      ],
      "metadata": {
        "id": "tVPbjwrf7r_W"
      },
      "execution_count": null,
      "outputs": []
    }
  ]
}